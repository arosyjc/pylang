{
 "cells": [
  {
   "cell_type": "markdown",
   "id": "e319481c",
   "metadata": {},
   "source": [
    "is_tensor 是否tensor张量\n",
    "is_storage 是否存储类型,之前是TypedStorage,后续不再支持TypedStorage,改为UnTypedStorage\n",
    "is_complex 是否复数\n",
    "is_conj 是否共轭复数, a+bi的共轭复数是a-bi\n",
    "is_floating_point 是否是浮点类型,tensor中的数值是否是float的,包括float64,float32,float16以及bfloat16\n",
    "is_nonzero 是否是一个数值，并且值不等于0\n",
    "\n",
    "set_default_dtype 设置默认浮点类型是d\n",
    "get_default_dtype 获取当前浮点类型的dtype\n",
    "torch.set_default_dtype\n",
    "torch.get_default_dtype()\n",
    "这两个方法是类方法.同理以下方法也是全局的\n",
    "torch.set_default_device()\n",
    "torch.get_default_device()\n",
    "\n",
    "numel 返回元素的个数\n",
    "```python\n",
    "t = torch.tensor([1, 2, 3])\n",
    "print(t.numel())\n",
    "```\n",
    "返回3个\n",
    "\n",
    "set_printoptions\n",
    "torch.set_printoptions 的主要作用是自定义 PyTorch 张量的打印格式，包括浮点数精度、科学计数法显示、每行字符数等。这些设置会影响所有后续打印的张量，直到再次调用该函数或重置为默认值。\n",
    "主要有以下几个参数\n",
    "precision:控制浮点数的小数位数，默认4\n",
    "threshold:设置触发摘要显示的张量元素总数。如果张量元素总数超过该值，输出会以缩略形式显示（中间部分用 ... 表示）。默认1000\n",
    "edgeitems:当张量以缩略形式显示时，控制显示在开头和结尾的元素数量。默认值3\n",
    "linewidth：设置每行显示的字符数，超过该值时会插入换行符。默认80\n",
    "profile:预设打印风格，提供一组合理的默认设置。可选值为 default、short、full。\n",
    "sci_mode:控制是否使用科学计数法显示数值。True：启用科学计数法。False：禁用科学计数法。None（默认）：由框架自动选择。\n",
    "\n",
    "\n",
    "set_flush_denormal:torch.set_flush_denormal(mode) 的主要作用是启用或禁用 CPU 上的非正规浮点数。非正规浮点数是浮点数的一种特殊形式，其绝对值非常小，接近于零。在某些情况下，处理这些数可能会显著降低计算性能。通过启用该功能，可以将这些非正规数“刷新”为零，从而提高计算效率。\n",
    "mode（布尔值）：\n",
    "True：启用非正规浮点数的刷新功能，即非正规数会被转换为 0。\n",
    "False：禁用该功能，保留非正规浮点数。\n",
    "4. 注意事项\n",
    "架构限制：该函数仅支持 SSE3 指令集的 x86 架构。如果您的 CPU 不支持 SSE3，该函数将无法正常工作。\n",
    "性能影响：虽然启用刷新功能可以提高性能，但在某些科学计算场景中，非正规浮点数可能具有实际意义，因此需要根据具体需求决定是否启用。\n",
    "全局影响：该设置会影响所有后续的浮点数计算，直到再次调用该函数或程序结束。\n",
    "torch.set_flush_denormal(mode) 是一个用于优化浮点数计算性能的函数，通过控制非正规浮点数的处理方式，可以显著提升计算效率。但在使用时需要注意其架构限制和潜在的性能影响。如果您有更具体的使用场景或需要进一步的帮助，请随时告诉我！"
   ]
  },
  {
   "cell_type": "markdown",
   "id": "b62b06df",
   "metadata": {},
   "source": [
    "#### torch的set_default_tensor_type 是干什么的怎么用\n",
    "torch.set_default_tensor_type 是 PyTorch 中一个用于设置默认张量类型的函数。这个函数主要用于优化张量的创建和计算效率，特别是在需要频繁创建张量时，可以避免每次都指定张量的类型，从而提高代码的简洁性和执行效率。\n",
    "\n",
    "功能与作用\n",
    "torch.set_default_tensor_type 的主要作用是设置 PyTorch 中默认的张量类型，这会影响后续所有未明确指定类型的张量的创建。通过设置默认类型，可以确保所有张量在创建时自动采用指定的类型，从而减少代码冗余并提高运行效率。\n",
    "\n",
    "使用方法\n",
    "函数的基本语法如下\n",
    "```python\n",
    "torch.set_default_tensor_type(t)\n",
    "```\n",
    "其中，t 是一个字符串或 PyTorch 的张量类型对象，表示希望设置的默认张量类型。常见的类型包括：\n",
    "\n",
    "torch.FloatTensor：32 位浮点数（默认类型）。\n",
    "torch.DoubleTensor：64 位浮点数。\n",
    "torch.cuda.FloatTensor：32 位浮点数，运行在 GPU 上。\n",
    "torch.cuda.DoubleTensor：64 位浮点数，运行在 GPU 上。\n",
    "torch.cuda.HalfTensor：16 位浮点数，运行在 GPU 上，用于节省显存。\n",
    "```python\n",
    "import torch\n",
    "\n",
    "# 设置默认张量类型为 64 位浮点数\n",
    "torch.set_default_tensor_type('torch.DoubleTensor')\n",
    "\n",
    "# 创建张量，此时无需显式指定类型\n",
    "a = torch.randn(2, 2)\n",
    "print(a.dtype)  # 输出: torch.float64\n",
    "\n",
    "# 恢复默认张量类型为 32 位浮点数\n",
    "torch.set_default_tensor_type('torch.FloatTensor')\n",
    "\n",
    "# 创建张量，此时默认类型为 32 位浮点数\n",
    "b = torch.randn(2, 2)\n",
    "print(b.dtype)  # 输出: torch.float32\n",
    "\n",
    "```\n",
    "\n",
    "应用场景\n",
    "节省显存：当在 GPU 上运行模型时，可以使用 torch.cuda.HalfTensor 作为默认类型，从而减少显存占用，这在显存资源有限的情况下特别有用。\n",
    "提高精度：如果模型需要更高的计算精度，可以将默认类型设置为 torch.DoubleTensor。\n",
    "简化代码：在批量创建张量时，设置默认类型可以避免每次都显式指定类型，提高代码的可读性和维护性。\n",
    "注意事项\n",
    "仅适用于浮点类型：torch.set_default_tensor_type 只能用于设置浮点类型的默认张量，不能用于整型张量。\n",
    "全局影响：设置默认类型会影响后续所有未明确指定类型的张量创建，因此在设置后，如果需要切换回其他类型，必须重新调用该函数。\n",
    "显存管理：如果在 GPU 上使用 torch.cuda.HalfTensor，需要注意精度损失可能导致计算错误或溢出问题\n",
    "\n",
    "torch.set_default_tensor_type 是一个实用的函数，能够帮助用户根据需求灵活设置默认张量类型，从而优化代码效率和资源使用。合理使用这一函数，可以在显存、计算精度和代码简洁性之间取得平衡。\n",
    "\n",
    "如果您有更具体的使用场景或需要进一步的帮助，请随时告诉我！"
   ]
  },
  {
   "cell_type": "markdown",
   "id": "56985c62",
   "metadata": {},
   "source": [
    "#### set_default_tensor_type和set_default_dtype的区别\n",
    "1. 功能与作用\n",
    "set_default_tensor_type\n",
    "功能：设置 PyTorch 中默认的张量类型，包括其数据类型和设备（CPU 或 GPU）。\n",
    "作用范围：不仅影响张量的数据类型，还决定了张量默认运行在 CPU 还是 GPU 上。\n",
    "适用类型：仅适用于浮点类型（如 FloatTensor, DoubleTensor, HalfTensor 等），不适用于整型张量。\n",
    "影响：设置后，所有未明确指定类型的张量创建都会采用该默认类型和设备。\n",
    "2.set_default_dtype\n",
    "功能：仅设置 PyTorch 中默认的浮点数据类型，不涉及设备（CPU 或 GPU）。\n",
    "作用范围：仅影响张量的数据类型，不涉及设备选择。\n",
    "适用类型：仅适用于浮点类型（如 torch.float16, torch.float32, torch.float64），不适用于整型张量。\n",
    "影响：设置后，所有未明确指定类型的张量创建都会采用该默认数据类型，但设备仍由其他设置决定。\n",
    "\n",
    "注意:主要区别就是set_default_tensor_type可以根据类型决定使用哪种设备比如 torch.cuda.FloatTensor代表在GPU上使用Float 32浮点\n",
    "torch.cuda.HalfTensor GPU 16位浮点\n",
    "torch.cuda.FloatTensor GPU 32位浮点\n",
    "torch.cuda.DoubleTensor GPU 64位浮点\n",
    "\n",
    "torch.FloatTensor\n",
    "torch.DoubleTensor\n",
    "注意没有torch.HalfTensor,cpu没有16位浮点\n",
    "\n"
   ]
  },
  {
   "cell_type": "code",
   "execution_count": 8,
   "id": "8ac9de1f",
   "metadata": {},
   "outputs": [],
   "source": [
    "import torch\n",
    "torch.cuda.is_available()\n",
    "#how to set torch tensor to use cuda\n",
    "td = torch.set_default_device(\"cuda:0\" if torch.cuda.is_available() else \"cpu\")"
   ]
  },
  {
   "cell_type": "code",
   "execution_count": 13,
   "id": "f11e1a4e",
   "metadata": {},
   "outputs": [
    {
     "name": "stdout",
     "output_type": "stream",
     "text": [
      "3\n"
     ]
    },
    {
     "data": {
      "text/plain": [
       "device(type='cuda', index=0)"
      ]
     },
     "execution_count": 13,
     "metadata": {},
     "output_type": "execute_result"
    }
   ],
   "source": [
    "t = torch.tensor([1, 2, 3])\n",
    "print(t.numel())\n",
    "torch.get_default_dtype()\n",
    "\n",
    "torch.get_default_device()"
   ]
  },
  {
   "cell_type": "markdown",
   "id": "355d6813",
   "metadata": {},
   "source": [
    "use function is_tensor() to check a data is tensor or not"
   ]
  },
  {
   "cell_type": "code",
   "execution_count": 11,
   "id": "2e7941b2",
   "metadata": {},
   "outputs": [
    {
     "data": {
      "text/plain": [
       "True"
      ]
     },
     "execution_count": 11,
     "metadata": {},
     "output_type": "execute_result"
    }
   ],
   "source": [
    "torch.is_tensor(t)  # True"
   ]
  },
  {
   "cell_type": "code",
   "execution_count": 12,
   "id": "3e8153b7",
   "metadata": {},
   "outputs": [
    {
     "name": "stdout",
     "output_type": "stream",
     "text": [
      "torch.cuda.LongStorage\n"
     ]
    },
    {
     "data": {
      "text/plain": [
       "True"
      ]
     },
     "execution_count": 12,
     "metadata": {},
     "output_type": "execute_result"
    }
   ],
   "source": [
    "s = t.storage()\n",
    "print(s.type())\n",
    "torch.is_storage(s)  # True"
   ]
  }
 ],
 "metadata": {
  "kernelspec": {
   "display_name": "base",
   "language": "python",
   "name": "python3"
  },
  "language_info": {
   "codemirror_mode": {
    "name": "ipython",
    "version": 3
   },
   "file_extension": ".py",
   "mimetype": "text/x-python",
   "name": "python",
   "nbconvert_exporter": "python",
   "pygments_lexer": "ipython3",
   "version": "3.13.2"
  }
 },
 "nbformat": 4,
 "nbformat_minor": 5
}
