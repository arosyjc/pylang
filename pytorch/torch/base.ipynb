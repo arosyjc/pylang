{
 "cells": [
  {
   "cell_type": "code",
   "execution_count": 11,
   "id": "8ac9de1f",
   "metadata": {},
   "outputs": [
    {
     "data": {
      "text/plain": [
       "'cuda'"
      ]
     },
     "execution_count": 11,
     "metadata": {},
     "output_type": "execute_result"
    }
   ],
   "source": [
    "import torch\n",
    "torch.cuda.is_available()\n",
    "#how to set torch tensor to use cuda\n",
    "td = torch.device(\"cuda:0\" if torch.cuda.is_available() else \"cpu\")\n",
    "td.type"
   ]
  },
  {
   "cell_type": "code",
   "execution_count": 12,
   "id": "f11e1a4e",
   "metadata": {},
   "outputs": [],
   "source": [
    "t = torch.tensor([1, 2, 3])"
   ]
  },
  {
   "cell_type": "markdown",
   "id": "355d6813",
   "metadata": {},
   "source": [
    "use function is_tensor() to check a data is tensor or not"
   ]
  },
  {
   "cell_type": "code",
   "execution_count": null,
   "id": "2e7941b2",
   "metadata": {},
   "outputs": [
    {
     "data": {
      "text/plain": [
       "True"
      ]
     },
     "execution_count": 13,
     "metadata": {},
     "output_type": "execute_result"
    }
   ],
   "source": [
    "torch.is_tensor(t)  # True"
   ]
  },
  {
   "cell_type": "code",
   "execution_count": 15,
   "id": "3e8153b7",
   "metadata": {},
   "outputs": [
    {
     "name": "stdout",
     "output_type": "stream",
     "text": [
      "torch.LongStorage\n"
     ]
    },
    {
     "data": {
      "text/plain": [
       "True"
      ]
     },
     "execution_count": 15,
     "metadata": {},
     "output_type": "execute_result"
    }
   ],
   "source": [
    "s = t.storage()\n",
    "print(s.type())\n",
    "torch.is_storage(s)  # True"
   ]
  }
 ],
 "metadata": {
  "kernelspec": {
   "display_name": "base",
   "language": "python",
   "name": "python3"
  },
  "language_info": {
   "codemirror_mode": {
    "name": "ipython",
    "version": 3
   },
   "file_extension": ".py",
   "mimetype": "text/x-python",
   "name": "python",
   "nbconvert_exporter": "python",
   "pygments_lexer": "ipython3",
   "version": "3.13.2"
  }
 },
 "nbformat": 4,
 "nbformat_minor": 5
}
